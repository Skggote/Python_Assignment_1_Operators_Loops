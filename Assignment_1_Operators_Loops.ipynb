{
  "nbformat": 4,
  "nbformat_minor": 0,
  "metadata": {
    "colab": {
      "provenance": []
    },
    "kernelspec": {
      "name": "python3",
      "display_name": "Python 3"
    },
    "language_info": {
      "name": "python"
    }
  },
  "cells": [
    {
      "cell_type": "markdown",
      "source": [
        "**Problem Statement 1:**\n",
        "\n",
        "**Write a Python program to get the Fibonacci series between 0 to 50**\n",
        "\n",
        "\n",
        "\n",
        "**Note : The Fibonacci Sequence is the series of numbers :**\n",
        "\n",
        "**0, 1, 1, 2, 3, 5, 8, 13, 21, ....**\n",
        "\n",
        "**Every next number is found by adding up the two numbers before it.**\n",
        "\n",
        "**Expected Output : 1 1 2 3 5 8 13 21 34**"
      ],
      "metadata": {
        "id": "xpmNW51_3vhQ"
      }
    },
    {
      "cell_type": "code",
      "source": [
        "x = 1\n",
        "y = 1\n",
        "print(\"Expected Output :\",end= \" \")\n",
        "while x <= 50:\n",
        "    print(x,end = \" \")\n",
        "    x, y = y, x + y"
      ],
      "metadata": {
        "colab": {
          "base_uri": "https://localhost:8080/"
        },
        "id": "DakV1HTf0mGf",
        "outputId": "9a77de59-14ce-45a0-c073-b286c643a30b"
      },
      "execution_count": 34,
      "outputs": [
        {
          "output_type": "stream",
          "name": "stdout",
          "text": [
            "Expected Output : 1 1 2 3 5 8 13 21 34 "
          ]
        }
      ]
    },
    {
      "cell_type": "markdown",
      "source": [
        "**Problem Statement 2:**\n",
        "\n",
        "**Write a Python program that accepts a word from the user and reverse it.**\n",
        "\n",
        "**Sample Test Case**\n",
        "\n",
        "**Input : Edyoda**\n",
        "\n",
        "**output: adoydE**"
      ],
      "metadata": {
        "id": "XgFWEozF-ZpJ"
      }
    },
    {
      "cell_type": "code",
      "source": [
        "input_string = input(\"Input: \")\n",
        "reversed_string = \"\"\n",
        "\n",
        "index = len(input_string) - 1\n",
        "for i in range(index,-1,-1):\n",
        "    reversed_string += input_string[i]\n",
        "    index -= 1\n",
        "\n",
        "print(\"Output: \", reversed_string)"
      ],
      "metadata": {
        "colab": {
          "base_uri": "https://localhost:8080/"
        },
        "id": "w2jOmICO_aQk",
        "outputId": "1b0fa54e-3046-4cf1-8bea-c662ba628798"
      },
      "execution_count": 17,
      "outputs": [
        {
          "output_type": "stream",
          "name": "stdout",
          "text": [
            "Input: Edyoda\n",
            "Output:  adoydE\n"
          ]
        }
      ]
    },
    {
      "cell_type": "markdown",
      "source": [
        "**Problem Statement 3:**\n",
        "\n",
        "**Write a Python program to count the number of even and odd numbers from a** **series of numbers.**\n",
        "\n",
        "**Sample numbers : numbers = (1, 2, 3, 4, 5, 6, 7, 8, 9)**\n",
        "\n",
        "**Expected Output :**\n",
        "\n",
        "**Number of even numbers : 4**\n",
        "\n",
        "\n",
        "**Number of odd numbers : 5**"
      ],
      "metadata": {
        "id": "EhJCq3v4JW-f"
      }
    },
    {
      "cell_type": "code",
      "source": [
        "numbers = (1,2,3,4,5,6,7,8,9)\n",
        "\n",
        "even_num = 0\n",
        "odd_num = 0\n",
        "\n",
        "for i in numbers:\n",
        "  if i % 2 == 0:\n",
        "        even_num += 1\n",
        "  else:\n",
        "        odd_num += 1\n",
        "\n",
        "print(\"Number of even number: \",even_num)\n",
        "print(\"Number of odd number: \",odd_num)"
      ],
      "metadata": {
        "colab": {
          "base_uri": "https://localhost:8080/"
        },
        "id": "obt6fM1NJXRh",
        "outputId": "9b3a0840-dc1a-47a8-f8bd-6edc328a7938"
      },
      "execution_count": 27,
      "outputs": [
        {
          "output_type": "stream",
          "name": "stdout",
          "text": [
            "Number of even number:  4\n",
            "Number of odd number:  5\n"
          ]
        }
      ]
    }
  ]
}